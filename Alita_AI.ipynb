{
  "cells": [
    {
      "cell_type": "code",
      "execution_count": null,
      "metadata": {
        "id": "GU5_b0wfHsA3"
      },
      "outputs": [],
      "source": [
        "!pip install -q -U google-generativeai"
      ]
    },
    {
      "cell_type": "code",
      "execution_count": null,
      "metadata": {
        "colab": {
          "base_uri": "https://localhost:8080/"
        },
        "id": "RMrY8XrbTlst",
        "outputId": "5faaa6f2-f5ef-44c6-eec9-d4f0535bba4a"
      },
      "outputs": [],
      "source": [
        "!pip install gTTS"
      ]
    },
    {
      "cell_type": "code",
      "execution_count": null,
      "metadata": {
        "id": "_10QdL95IXfR"
      },
      "outputs": [],
      "source": [
        "import pathlib\n",
        "import textwrap\n",
        "from gtts import gTTS\n",
        "\n",
        "import google.generativeai as genai\n",
        "\n",
        "from IPython.display import Audio, display\n",
        "from IPython.display import Markdown\n",
        "\n",
        "def to_markdown(text):\n",
        "  text = text.replace('.', ' *')\n",
        "  return Markdown(textwrap.indent(text, '> ', predicate=lambda _: True))\n",
        "\n",
        "genai.configure(api_key=GOOGLE_API_KEY)"
      ]
    },
    {
      "cell_type": "code",
      "execution_count": null,
      "metadata": {
        "id": "eDeDbZH37i_P"
      },
      "outputs": [],
      "source": [
        "from google.colab import userdata\n",
        "GOOGLE_API_KEY = userdata.get('GOOGLE_API_KEY')\n",
        "model = genai.GenerativeModel('gemini-pro')"
      ]
    },
    {
      "cell_type": "code",
      "execution_count": null,
      "metadata": {
        "id": "fSXzMOpK0Z-X"
      },
      "outputs": [],
      "source": [
        "#Step1. Getting Input\n",
        "def ask_question(name):\n",
        "  ques = \"Hey, \" + name +\" How can i help You ? \"\n",
        "  ques = input(ques)\n",
        "  return ques"
      ]
    },
    {
      "cell_type": "code",
      "execution_count": null,
      "metadata": {
        "id": "KroIHyzu2Cck"
      },
      "outputs": [],
      "source": [
        "def classify_questions(ques):\n",
        "  goahead_with_web_search = False\n",
        "  device_lst = ['alarm', 'reminder', 'message', 'call']\n",
        "  personal_lst = ['who are you' , 'who created you']\n",
        "\n",
        "  device = False\n",
        "  for i in device_lst:\n",
        "    if i in ques:\n",
        "      device = True\n",
        "\n",
        "  if device:\n",
        "      print(\"This question is related to Device thinds, Which is not support in our google assistant!\")\n",
        "\n",
        "  personal_questions = False\n",
        "  for i in personal_lst:\n",
        "    if i in ques.lower():\n",
        "      personal_questions = True\n",
        "\n",
        "  if personal_questions:\n",
        "    speak(\"Hey am Alita a personal assistant created by Ajay\")\n",
        "    print(\"Hey am Alita a personal assistant created by Ajay\")\n",
        "\n",
        "  if device:\n",
        "    goahead_with_web_search = False\n",
        "  elif personal_questions:\n",
        "    goahead_with_web_search = False\n",
        "  else:\n",
        "    goahead_with_web_search = True\n",
        "\n",
        "  return goahead_with_web_search"
      ]
    },
    {
      "cell_type": "code",
      "execution_count": null,
      "metadata": {
        "colab": {
          "base_uri": "https://localhost:8080/"
        },
        "id": "lSzczbNC3tw9",
        "outputId": "c69a2644-8ffd-45c0-c8c5-39aeccedf9ce"
      },
      "outputs": [],
      "source": [
        "classify_questions(\"who are you?\")"
      ]
    },
    {
      "cell_type": "code",
      "execution_count": null,
      "metadata": {
        "id": "Uw3CqFt86joM"
      },
      "outputs": [],
      "source": [
        "# Start searching with google gemini"
      ]
    },
    {
      "cell_type": "code",
      "execution_count": null,
      "metadata": {
        "id": "1P8Y_2rmTw-c"
      },
      "outputs": [],
      "source": [
        "def speak(answer):\n",
        "  tts = gTTS(answer)\n",
        "  tts.save('audio.mp3')\n",
        "  display(Audio('audio.mp3', autoplay=True))"
      ]
    },
    {
      "cell_type": "code",
      "execution_count": null,
      "metadata": {
        "id": "zqdvTJCxNrdy"
      },
      "outputs": [],
      "source": [
        "def ask_gemini(ques):\n",
        "  modified_prompt = 'Hey, give me answer to this question' + ques + 'in maximum of 40 words'\n",
        "  response = model.generate_content(modified_prompt)\n",
        "  to_markdown(response.text)\n",
        "  return response.text"
      ]
    },
    {
      "cell_type": "code",
      "execution_count": null,
      "metadata": {
        "colab": {
          "background_save": true,
          "base_uri": "https://localhost:8080/",
          "height": 166
        },
        "id": "I3QrLup2O3w7",
        "outputId": "72d6fdc4-487c-4e30-bb10-05f6f8ef4f1b"
      },
      "outputs": [],
      "source": [
        "have_any_other_ques = 'y'\n",
        "name = ''\n",
        "\n",
        "while have_any_other_ques == 'y':\n",
        "\n",
        "  if name == '':\n",
        "    name = input(\"Hey, what's your name? \")\n",
        "\n",
        "  q = ask_question(name)\n",
        "  go_ahead = classify_questions(q)\n",
        "  answer = ''\n",
        "\n",
        "  if go_ahead == True:\n",
        "    answer = ask_gemini(q)\n",
        "    speak(answer)\n",
        "    print(answer)\n",
        "  have_any_other_ques = input(\"Do you have any other questions? (y/n) \")"
      ]
    }
  ],
  "metadata": {
    "colab": {
      "provenance": []
    },
    "kernelspec": {
      "display_name": "Python 3",
      "name": "python3"
    },
    "language_info": {
      "codemirror_mode": {
        "name": "ipython",
        "version": 3
      },
      "file_extension": ".py",
      "mimetype": "text/x-python",
      "name": "python",
      "nbconvert_exporter": "python",
      "pygments_lexer": "ipython3",
      "version": "3.10.11"
    }
  },
  "nbformat": 4,
  "nbformat_minor": 0
}
